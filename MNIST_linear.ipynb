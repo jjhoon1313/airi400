""" mnist
    model
    test """

import tensorflow as tf
import numpy as np

# Set Placeholders
# X <- 28 * 28 size input data
# Y <- (0~9) labeled data

X = tf.placeholder(tf.float32, shape = [None, 28*28], name = 'X')
Y = tf.placeholder(tf.int64, shape = [None], name = 'Y')
Y_onehot = tf.one_hot(Y, 10, axis=1)

# Set Variables
# W <- 784 * 10 variables
# B <- 1 *10 Biases

W = tf.Variable(tf.zeros([28*28, 10]))
B = tf.Variable(tf.zeros([10]))

# Set Linear Model
# Y_pred = X * W(matmul) + B

Y_pred = tf.matmul(X,W) + B

# Set Loss Function
# Using Softmax Algorithm
# get reduce_mean & use logits(not softmax)

loss = tf.reduce_mean(tf.nn.softmax_cross_entropy_with_logits(logits=Y_pred, labels=Y_onehot))

# Set Accuracy Function
# Set softmax

softmax = tf.nn.softmax(logits=Y_pred)
correct = tf.equal(tf.argmax(softmax,1), tf.argmax(Y_onehot,1))
acc = tf.reduce_mean(tf.cast(correct, tf.float32))


# Set Trainer & Optimizer

trainer = tf.train.GradientDescentOptimizer(learning_rate=0.05)
optimizer = trainer.minimize(loss)


# Data Loading & Normalization
# image file has pixel data from 0016 -> reshape(60000,28,28), float
# label file has label data from 0008 -> reshape(60000), int

fd = open('./mnist/train-images.idx3-ubyte')
images = np.fromfile(file=fd, dtype=np.uint8)
images = images[16:].reshape([60000,28*28]).astype(np.float)
images = images/255.

#print(images[1,])
fd = open('./mnist/train-labels.idx1-ubyte')
labels = np.fromfile(file=fd, dtype=np.uint8)
labels = labels[8:].reshape([60000]).astype(np.int)

# Test Data Loading
fd = open('./mnist/t10k-images.idx3-ubyte')
t_images = np.fromfile(file=fd, dtype=np.uint8)
t_images = t_images[16:].reshape([10000,28*28]).astype(np.float)
t_images = t_images/255.

fd = open('./mnist/t10k-labels.idx1-ubyte')
t_labels = np.fromfile(file=fd, dtype=np.uint8)
t_labels = t_labels[8:].reshape([10000]).astype(np.int)

# Initialize TF Session
with tf.Session() as sess:
    
    # Variables Initialize
    sess.run(tf.global_variables_initializer())
    
    accuracy = 0
    
    # Epoch Loop
    batch_size = 1000
    batch_count = 60000 // batch_size
    for epoch in range(50):
        
        total_loss = 0
        total_accuracy = 0.0
        # mini-batch Loop
        for i in range(batch_count):
            # Set batch index
            batch_index =  i * batch_size
            
            # Set mini-batch data-set
            img = np.reshape(images[batch_index:batch_index+batch_size], [batch_size,28*28])
            label = labels[batch_index:batch_index+batch_size]
            
            # Session Run(Trainer Update)
            _, loss_v = sess.run([optimizer,loss], feed_dict={X:img,Y:label})
            

            # Get total_loss & accuracy
            total_loss += loss_v
    
        print('total_loss & acc : ',total_loss, acc.eval(session=sess, feed_dict = {X:img,Y:label}))
        print('Test Accuracy : ', acc.eval(session=sess, feed_dict={X:t_images,Y:t_labels}) )
        

        trained_W, trained_B = sess.run([W,B])
        
import scipy.misc

tr_trained_W = np.transpose(trained_W)

tr_trained_W = (tr_trained_W - np.mean(tr_trained_W)) / np.std(tr_trained_W) 

tr_trained_W =(tr_trained_W+1)/2

tr_trained_W = (tr_trained_W * 255).reshape([10,28,28])


test_img = scipy.misc.imread('testimage1.jpg')
test_img = test_img / 255.

test_img = np.reshape(test_img, [1,784])


# print(test_img[0])
test_v = np.matmul(test_img, trained_W) + trained_B

softmax_test_v = tf.nn.softmax(test_v)

ans = tf.argmax(softmax_test_v,1)

with tf.Session() as sess :
    
    print(sess.run(softmax_test_v))
    print(np.argmax(sess.run(softmax_test_v)))

# image show
!pip install scipy
!pip install Pillow

scipy.misc.imsave('0.jpg',tr_trained_W[0])
scipy.misc.imsave('1.jpg',tr_trained_W[1])
scipy.misc.imsave('2.jpg',tr_trained_W[2])
scipy.misc.imsave('3.jpg',tr_trained_W[3])
scipy.misc.imsave('4.jpg',tr_trained_W[4])
scipy.misc.imsave('5.jpg',tr_trained_W[5])
scipy.misc.imsave('6.jpg',tr_trained_W[6])
scipy.misc.imsave('7.jpg',tr_trained_W[7])
scipy.misc.imsave('8.jpg',tr_trained_W[8])
scipy.misc.imsave('9.jpg',tr_trained_W[9])

